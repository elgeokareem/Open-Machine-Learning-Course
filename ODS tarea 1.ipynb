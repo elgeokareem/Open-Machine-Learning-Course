{
 "cells": [
  {
   "cell_type": "code",
   "execution_count": 27,
   "metadata": {},
   "outputs": [],
   "source": [
    "import pandas as pd\n",
    "from numpy import arange as np"
   ]
  },
  {
   "cell_type": "code",
   "execution_count": 2,
   "metadata": {},
   "outputs": [
    {
     "data": {
      "text/html": [
       "<div>\n",
       "<style scoped>\n",
       "    .dataframe tbody tr th:only-of-type {\n",
       "        vertical-align: middle;\n",
       "    }\n",
       "\n",
       "    .dataframe tbody tr th {\n",
       "        vertical-align: top;\n",
       "    }\n",
       "\n",
       "    .dataframe thead th {\n",
       "        text-align: right;\n",
       "    }\n",
       "</style>\n",
       "<table border=\"1\" class=\"dataframe\">\n",
       "  <thead>\n",
       "    <tr style=\"text-align: right;\">\n",
       "      <th></th>\n",
       "      <th>ID</th>\n",
       "      <th>Name</th>\n",
       "      <th>Sex</th>\n",
       "      <th>Age</th>\n",
       "      <th>Height</th>\n",
       "      <th>Weight</th>\n",
       "      <th>Team</th>\n",
       "      <th>NOC</th>\n",
       "      <th>Games</th>\n",
       "      <th>Year</th>\n",
       "      <th>Season</th>\n",
       "      <th>City</th>\n",
       "      <th>Sport</th>\n",
       "      <th>Event</th>\n",
       "      <th>Medal</th>\n",
       "    </tr>\n",
       "  </thead>\n",
       "  <tbody>\n",
       "    <tr>\n",
       "      <th>0</th>\n",
       "      <td>1</td>\n",
       "      <td>A Dijiang</td>\n",
       "      <td>M</td>\n",
       "      <td>24.0</td>\n",
       "      <td>180.0</td>\n",
       "      <td>80.0</td>\n",
       "      <td>China</td>\n",
       "      <td>CHN</td>\n",
       "      <td>1992 Summer</td>\n",
       "      <td>1992</td>\n",
       "      <td>Summer</td>\n",
       "      <td>Barcelona</td>\n",
       "      <td>Basketball</td>\n",
       "      <td>Basketball Men's Basketball</td>\n",
       "      <td>NaN</td>\n",
       "    </tr>\n",
       "    <tr>\n",
       "      <th>1</th>\n",
       "      <td>2</td>\n",
       "      <td>A Lamusi</td>\n",
       "      <td>M</td>\n",
       "      <td>23.0</td>\n",
       "      <td>170.0</td>\n",
       "      <td>60.0</td>\n",
       "      <td>China</td>\n",
       "      <td>CHN</td>\n",
       "      <td>2012 Summer</td>\n",
       "      <td>2012</td>\n",
       "      <td>Summer</td>\n",
       "      <td>London</td>\n",
       "      <td>Judo</td>\n",
       "      <td>Judo Men's Extra-Lightweight</td>\n",
       "      <td>NaN</td>\n",
       "    </tr>\n",
       "    <tr>\n",
       "      <th>2</th>\n",
       "      <td>3</td>\n",
       "      <td>Gunnar Nielsen Aaby</td>\n",
       "      <td>M</td>\n",
       "      <td>24.0</td>\n",
       "      <td>NaN</td>\n",
       "      <td>NaN</td>\n",
       "      <td>Denmark</td>\n",
       "      <td>DEN</td>\n",
       "      <td>1920 Summer</td>\n",
       "      <td>1920</td>\n",
       "      <td>Summer</td>\n",
       "      <td>Antwerpen</td>\n",
       "      <td>Football</td>\n",
       "      <td>Football Men's Football</td>\n",
       "      <td>NaN</td>\n",
       "    </tr>\n",
       "    <tr>\n",
       "      <th>3</th>\n",
       "      <td>4</td>\n",
       "      <td>Edgar Lindenau Aabye</td>\n",
       "      <td>M</td>\n",
       "      <td>34.0</td>\n",
       "      <td>NaN</td>\n",
       "      <td>NaN</td>\n",
       "      <td>Denmark/Sweden</td>\n",
       "      <td>DEN</td>\n",
       "      <td>1900 Summer</td>\n",
       "      <td>1900</td>\n",
       "      <td>Summer</td>\n",
       "      <td>Paris</td>\n",
       "      <td>Tug-Of-War</td>\n",
       "      <td>Tug-Of-War Men's Tug-Of-War</td>\n",
       "      <td>Gold</td>\n",
       "    </tr>\n",
       "    <tr>\n",
       "      <th>4</th>\n",
       "      <td>5</td>\n",
       "      <td>Christine Jacoba Aaftink</td>\n",
       "      <td>F</td>\n",
       "      <td>21.0</td>\n",
       "      <td>185.0</td>\n",
       "      <td>82.0</td>\n",
       "      <td>Netherlands</td>\n",
       "      <td>NED</td>\n",
       "      <td>1988 Winter</td>\n",
       "      <td>1988</td>\n",
       "      <td>Winter</td>\n",
       "      <td>Calgary</td>\n",
       "      <td>Speed Skating</td>\n",
       "      <td>Speed Skating Women's 500 metres</td>\n",
       "      <td>NaN</td>\n",
       "    </tr>\n",
       "  </tbody>\n",
       "</table>\n",
       "</div>"
      ],
      "text/plain": [
       "   ID                      Name Sex   Age  Height  Weight            Team  \\\n",
       "0   1                 A Dijiang   M  24.0   180.0    80.0           China   \n",
       "1   2                  A Lamusi   M  23.0   170.0    60.0           China   \n",
       "2   3       Gunnar Nielsen Aaby   M  24.0     NaN     NaN         Denmark   \n",
       "3   4      Edgar Lindenau Aabye   M  34.0     NaN     NaN  Denmark/Sweden   \n",
       "4   5  Christine Jacoba Aaftink   F  21.0   185.0    82.0     Netherlands   \n",
       "\n",
       "   NOC        Games  Year  Season       City          Sport  \\\n",
       "0  CHN  1992 Summer  1992  Summer  Barcelona     Basketball   \n",
       "1  CHN  2012 Summer  2012  Summer     London           Judo   \n",
       "2  DEN  1920 Summer  1920  Summer  Antwerpen       Football   \n",
       "3  DEN  1900 Summer  1900  Summer      Paris     Tug-Of-War   \n",
       "4  NED  1988 Winter  1988  Winter    Calgary  Speed Skating   \n",
       "\n",
       "                              Event Medal  \n",
       "0       Basketball Men's Basketball   NaN  \n",
       "1      Judo Men's Extra-Lightweight   NaN  \n",
       "2           Football Men's Football   NaN  \n",
       "3       Tug-Of-War Men's Tug-Of-War  Gold  \n",
       "4  Speed Skating Women's 500 metres   NaN  "
      ]
     },
     "execution_count": 2,
     "metadata": {},
     "output_type": "execute_result"
    }
   ],
   "source": [
    "data = pd.read_csv(r\"C:\\Users\\elgeokareem\\Desktop\\William\\Datasets\\1. athlete_events.csv\")\n",
    "data.head()"
   ]
  },
  {
   "cell_type": "code",
   "execution_count": 3,
   "metadata": {},
   "outputs": [
    {
     "data": {
      "text/plain": [
       "(14.0, 12.0)"
      ]
     },
     "execution_count": 3,
     "metadata": {},
     "output_type": "execute_result"
    }
   ],
   "source": [
    "#1. How old were the youngest male and female participants of the 1996 Olympics?\n",
    "\n",
    "#Se separa en masculino y femenino\n",
    "data_male = data[data[\"Sex\"]==\"M\"].copy()\n",
    "data_female = data[data[\"Sex\"]==\"F\"].copy()\n",
    "\n",
    "age_m = data_male[data_male[\"Year\"]==1996].sort_values(by=\"Age\").iloc[0,3]\n",
    "age_f = data_female[data_female[\"Year\"]==1996].sort_values(by=\"Age\").iloc[0,3]\n",
    "(age_m,age_f)"
   ]
  },
  {
   "cell_type": "code",
   "execution_count": 4,
   "metadata": {},
   "outputs": [
    {
     "data": {
      "text/plain": [
       "1.5"
      ]
     },
     "execution_count": 4,
     "metadata": {},
     "output_type": "execute_result"
    }
   ],
   "source": [
    "#2. What was the percentage of male gymnasts among all the male participants of the 2000 \n",
    "#Olympics? Round the answer to the first decimal.\n",
    "#Cuidado con los duplicados.\n",
    "\n",
    "a = len(set(data_male[(data_male[\"Year\"]==2000) & (data_male[\"Sport\"] == \"Gymnastics\")][\"Name\"]))\n",
    "b = len(set(data_male[data_male[\"Year\"] == 2000][\"Name\"]))\n",
    "round(a/b*100,1)"
   ]
  },
  {
   "cell_type": "code",
   "execution_count": 25,
   "metadata": {},
   "outputs": [
    {
     "data": {
      "text/plain": [
       "(182.38732394366198, 9.139462087892174)"
      ]
     },
     "execution_count": 25,
     "metadata": {},
     "output_type": "execute_result"
    }
   ],
   "source": [
    "#3. What are the mean and standard deviation of height for female basketball \n",
    "#players participated in the 2000 Olympics? Round the answer to the first decimal.\n",
    "\n",
    "a = data_female[(data_female[\"Year\"]==2000)&(data_female[\"Sport\"]==\"Basketball\")][\"Height\"].mean()\n",
    "b = data_female[(data_female[\"Year\"]==2000)&(data_female[\"Sport\"]==\"Basketball\")][\"Height\"].std()\n",
    "(a,b) #(182.38732394366198, 9.139462087892174)"
   ]
  },
  {
   "cell_type": "code",
   "execution_count": 6,
   "metadata": {
    "scrolled": true
   },
   "outputs": [
    {
     "data": {
      "text/plain": [
       "'Bobsleigh'"
      ]
     },
     "execution_count": 6,
     "metadata": {},
     "output_type": "execute_result"
    }
   ],
   "source": [
    "#4. Find a sportsperson participated in the 2002 Olympics, with the highest weight \n",
    "#among other participants of the same Olympics. What sport did he or she do?\n",
    "\n",
    "data[data[\"Year\"]==2002].sort_values(by=\"Weight\", ascending=False).iloc[0,12]"
   ]
  },
  {
   "cell_type": "code",
   "execution_count": 7,
   "metadata": {},
   "outputs": [
    {
     "data": {
      "text/plain": [
       "{1992, 1998, 2002}"
      ]
     },
     "execution_count": 7,
     "metadata": {},
     "output_type": "execute_result"
    }
   ],
   "source": [
    "#5. How many times did Pawe Abratkiewicz participate in the Olympics held in \n",
    "#different years?\n",
    "\n",
    "set(data[data[\"Name\"]==\"Pawe Abratkiewicz\"][\"Year\"]) #3 Veces"
   ]
  },
  {
   "cell_type": "code",
   "execution_count": 8,
   "metadata": {},
   "outputs": [
    {
     "data": {
      "text/plain": [
       "2"
      ]
     },
     "execution_count": 8,
     "metadata": {},
     "output_type": "execute_result"
    }
   ],
   "source": [
    "#6. How many silver medals in tennis did Australia win at the 2000 Olympics?\n",
    "\n",
    "len(data[(data[\"Team\"]==\"Australia\") & (data[\"Year\"]==2000) & (data[\"Medal\"]==\"Silver\") & \n",
    "         (data[\"Sport\"]==\"Tennis\")])"
   ]
  },
  {
   "cell_type": "code",
   "execution_count": 61,
   "metadata": {},
   "outputs": [
    {
     "data": {
      "text/plain": [
       "(11, 54)"
      ]
     },
     "execution_count": 61,
     "metadata": {},
     "output_type": "execute_result"
    }
   ],
   "source": [
    "#7. Is it true that Switzerland won fewer medals than Serbia at the 2016 Olympics? \n",
    "#Do not consider NaN values in Medal column.\n",
    "\n",
    "swi = data[(data[\"Team\"]==\"Switzerland\") & (data[\"Year\"]==2016)][\"Medal\"]\n",
    "ser = data[(data[\"Team\"]==\"Serbia\") & (data[\"Year\"]==2016)][\"Medal\"]\n",
    "\n",
    "(swi.count(), ser.count()) #Yes"
   ]
  },
  {
   "cell_type": "code",
   "execution_count": 95,
   "metadata": {
    "scrolled": true
   },
   "outputs": [
    {
     "name": "stdout",
     "output_type": "stream",
     "text": [
      "Para: [45-55] and [25-35) 5 2594\n",
      "Para: [45-55] and [15-25) 5 2027\n",
      "Para: [35-45] and [25-35) 266 2594\n",
      "Para: [45-55] and [35-45) 5 265\n"
     ]
    }
   ],
   "source": [
    "#8. What age category did the fewest and the most participants of the \n",
    "#2014 Olympics belong to?\n",
    "\n",
    "dist_edad = data[data['Year'] == 2014][\"Age\"].value_counts().sort_index()\n",
    "\n",
    "#[45-55] and [25-35)\n",
    "print(\"Para: [45-55] and [25-35)\", dist_edad[45:55].sum(), dist_edad[25:34].sum())\n",
    "#[45-55] and [15-25)\n",
    "print(\"Para: [45-55] and [15-25)\", dist_edad[45:55].sum(), dist_edad[15:24].sum())\n",
    "#[35-45] and [25-35)\n",
    "print(\"Para: [35-45] and [25-35)\", dist_edad[35:45].sum(), dist_edad[25:34].sum())\n",
    "#[45-55] and [35-45)\n",
    "print(\"Para: [45-55] and [35-45)\", dist_edad[45:55].sum(), dist_edad[35:44].sum())"
   ]
  },
  {
   "cell_type": "code",
   "execution_count": 11,
   "metadata": {},
   "outputs": [
    {
     "name": "stdout",
     "output_type": "stream",
     "text": [
      "No, Si\n"
     ]
    }
   ],
   "source": [
    "#9. Is it true that there were Summer Olympics held in Lake Placid? \n",
    "#Is it true that there were Winter Olympics held in Sankt Moritz? \n",
    "\n",
    "data[(data[\"City\"]==\"Lake Placid\") & (data[\"Season\"]==\"Summer\")] #No\n",
    "data[(data[\"City\"]==\"Sankt Moritz\") & (data[\"Season\"]==\"Winter\")] #Si\n",
    "print(\"No, Si\")"
   ]
  },
  {
   "cell_type": "code",
   "execution_count": 12,
   "metadata": {},
   "outputs": [
    {
     "data": {
      "text/plain": [
       "34"
      ]
     },
     "execution_count": 12,
     "metadata": {},
     "output_type": "execute_result"
    }
   ],
   "source": [
    "#10. What is the absolute difference between the number of unique sports \n",
    "#at the 1995 Olympics and 2016 Olympics?\n",
    "\n",
    "a = len(set(data[data[\"Year\"]==2015][\"Sport\"]))\n",
    "b = len(set(data[data[\"Year\"]==2016][\"Sport\"]))\n",
    "abs(a-b)"
   ]
  },
  {
   "cell_type": "code",
   "execution_count": null,
   "metadata": {},
   "outputs": [],
   "source": []
  }
 ],
 "metadata": {
  "kernelspec": {
   "display_name": "Python 3",
   "language": "python",
   "name": "python3"
  },
  "language_info": {
   "codemirror_mode": {
    "name": "ipython",
    "version": 3
   },
   "file_extension": ".py",
   "mimetype": "text/x-python",
   "name": "python",
   "nbconvert_exporter": "python",
   "pygments_lexer": "ipython3",
   "version": "3.7.0"
  }
 },
 "nbformat": 4,
 "nbformat_minor": 2
}
